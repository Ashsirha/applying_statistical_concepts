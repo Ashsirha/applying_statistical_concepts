{
 "cells": [
  {
   "cell_type": "markdown",
   "id": "7b0bcac6-5086-4f4e-928a-570a9ff7ae58",
   "metadata": {},
   "source": [
    "# Assignment 1"
   ]
  },
  {
   "cell_type": "markdown",
   "id": "5fce0350-2a17-4e93-8d4c-0b8748fdfc32",
   "metadata": {},
   "source": [
    "You only need to write one line of code for each question. When answering questions that ask you to identify or interpret something, the length of your response doesn’t matter. For example, if the answer is just ‘yes,’ ‘no,’ or a number, you can just give that answer without adding anything else.\n",
    "\n",
    "We will go through comparable code and concepts in the live learning session. If you run into trouble, start by using the help `help()` function in Python, to get information about the datasets and function in question. The internet is also a great resource when coding (though note that **no outside searches are required by the assignment!**). If you do incorporate code from the internet, please cite the source within your code (providing a URL is sufficient).\n",
    "\n",
    "Please bring questions that you cannot work out on your own to office hours, work periods or share with your peers on Slack. We will work with you through the issue."
   ]
  },
  {
   "cell_type": "markdown",
   "id": "5fc5001c-7715-4ebe-b0f7-e4bd04349629",
   "metadata": {},
   "source": [
    "### Classification using KNN\n",
    "\n",
    "Let's set up our workspace and use the **Wine dataset** from `scikit-learn`. This dataset contains 178 wine samples with 13 chemical features, used to classify wines into different classes based on their origin.\n",
    "\n",
    "The **response variable** is `class`, which indicates the type of wine. We'll use all of the chemical features to predict this response variable."
   ]
  },
  {
   "cell_type": "code",
   "execution_count": 2,
   "id": "4a3485d6-ba58-4660-a983-5680821c5719",
   "metadata": {},
   "outputs": [],
   "source": [
    "# Import standard libraries\n",
    "import pandas as pd\n",
    "import numpy as np\n",
    "import random\n",
    "import matplotlib.pyplot as plt\n",
    "import matplotlib.colors as mcolors\n",
    "from sklearn.preprocessing import StandardScaler\n",
    "from sklearn.model_selection import train_test_split\n",
    "from sklearn.neighbors import KNeighborsClassifier\n",
    "from sklearn.metrics import recall_score, precision_score\n",
    "from sklearn.model_selection import cross_validate\n",
    "from sklearn.model_selection import GridSearchCV\n",
    "from sklearn.metrics import accuracy_score"
   ]
  },
  {
   "cell_type": "code",
   "execution_count": 3,
   "id": "a431d282-f9ca-4d5d-8912-71ffc9d8ea19",
   "metadata": {},
   "outputs": [
    {
     "data": {
      "text/html": [
       "<div>\n",
       "<style scoped>\n",
       "    .dataframe tbody tr th:only-of-type {\n",
       "        vertical-align: middle;\n",
       "    }\n",
       "\n",
       "    .dataframe tbody tr th {\n",
       "        vertical-align: top;\n",
       "    }\n",
       "\n",
       "    .dataframe thead th {\n",
       "        text-align: right;\n",
       "    }\n",
       "</style>\n",
       "<table border=\"1\" class=\"dataframe\">\n",
       "  <thead>\n",
       "    <tr style=\"text-align: right;\">\n",
       "      <th></th>\n",
       "      <th>alcohol</th>\n",
       "      <th>malic_acid</th>\n",
       "      <th>ash</th>\n",
       "      <th>alcalinity_of_ash</th>\n",
       "      <th>magnesium</th>\n",
       "      <th>total_phenols</th>\n",
       "      <th>flavanoids</th>\n",
       "      <th>nonflavanoid_phenols</th>\n",
       "      <th>proanthocyanins</th>\n",
       "      <th>color_intensity</th>\n",
       "      <th>hue</th>\n",
       "      <th>od280/od315_of_diluted_wines</th>\n",
       "      <th>proline</th>\n",
       "      <th>class</th>\n",
       "    </tr>\n",
       "  </thead>\n",
       "  <tbody>\n",
       "    <tr>\n",
       "      <th>0</th>\n",
       "      <td>14.23</td>\n",
       "      <td>1.71</td>\n",
       "      <td>2.43</td>\n",
       "      <td>15.6</td>\n",
       "      <td>127.0</td>\n",
       "      <td>2.80</td>\n",
       "      <td>3.06</td>\n",
       "      <td>0.28</td>\n",
       "      <td>2.29</td>\n",
       "      <td>5.64</td>\n",
       "      <td>1.04</td>\n",
       "      <td>3.92</td>\n",
       "      <td>1065.0</td>\n",
       "      <td>0</td>\n",
       "    </tr>\n",
       "    <tr>\n",
       "      <th>1</th>\n",
       "      <td>13.20</td>\n",
       "      <td>1.78</td>\n",
       "      <td>2.14</td>\n",
       "      <td>11.2</td>\n",
       "      <td>100.0</td>\n",
       "      <td>2.65</td>\n",
       "      <td>2.76</td>\n",
       "      <td>0.26</td>\n",
       "      <td>1.28</td>\n",
       "      <td>4.38</td>\n",
       "      <td>1.05</td>\n",
       "      <td>3.40</td>\n",
       "      <td>1050.0</td>\n",
       "      <td>0</td>\n",
       "    </tr>\n",
       "    <tr>\n",
       "      <th>2</th>\n",
       "      <td>13.16</td>\n",
       "      <td>2.36</td>\n",
       "      <td>2.67</td>\n",
       "      <td>18.6</td>\n",
       "      <td>101.0</td>\n",
       "      <td>2.80</td>\n",
       "      <td>3.24</td>\n",
       "      <td>0.30</td>\n",
       "      <td>2.81</td>\n",
       "      <td>5.68</td>\n",
       "      <td>1.03</td>\n",
       "      <td>3.17</td>\n",
       "      <td>1185.0</td>\n",
       "      <td>0</td>\n",
       "    </tr>\n",
       "    <tr>\n",
       "      <th>3</th>\n",
       "      <td>14.37</td>\n",
       "      <td>1.95</td>\n",
       "      <td>2.50</td>\n",
       "      <td>16.8</td>\n",
       "      <td>113.0</td>\n",
       "      <td>3.85</td>\n",
       "      <td>3.49</td>\n",
       "      <td>0.24</td>\n",
       "      <td>2.18</td>\n",
       "      <td>7.80</td>\n",
       "      <td>0.86</td>\n",
       "      <td>3.45</td>\n",
       "      <td>1480.0</td>\n",
       "      <td>0</td>\n",
       "    </tr>\n",
       "    <tr>\n",
       "      <th>4</th>\n",
       "      <td>13.24</td>\n",
       "      <td>2.59</td>\n",
       "      <td>2.87</td>\n",
       "      <td>21.0</td>\n",
       "      <td>118.0</td>\n",
       "      <td>2.80</td>\n",
       "      <td>2.69</td>\n",
       "      <td>0.39</td>\n",
       "      <td>1.82</td>\n",
       "      <td>4.32</td>\n",
       "      <td>1.04</td>\n",
       "      <td>2.93</td>\n",
       "      <td>735.0</td>\n",
       "      <td>0</td>\n",
       "    </tr>\n",
       "    <tr>\n",
       "      <th>...</th>\n",
       "      <td>...</td>\n",
       "      <td>...</td>\n",
       "      <td>...</td>\n",
       "      <td>...</td>\n",
       "      <td>...</td>\n",
       "      <td>...</td>\n",
       "      <td>...</td>\n",
       "      <td>...</td>\n",
       "      <td>...</td>\n",
       "      <td>...</td>\n",
       "      <td>...</td>\n",
       "      <td>...</td>\n",
       "      <td>...</td>\n",
       "      <td>...</td>\n",
       "    </tr>\n",
       "    <tr>\n",
       "      <th>173</th>\n",
       "      <td>13.71</td>\n",
       "      <td>5.65</td>\n",
       "      <td>2.45</td>\n",
       "      <td>20.5</td>\n",
       "      <td>95.0</td>\n",
       "      <td>1.68</td>\n",
       "      <td>0.61</td>\n",
       "      <td>0.52</td>\n",
       "      <td>1.06</td>\n",
       "      <td>7.70</td>\n",
       "      <td>0.64</td>\n",
       "      <td>1.74</td>\n",
       "      <td>740.0</td>\n",
       "      <td>2</td>\n",
       "    </tr>\n",
       "    <tr>\n",
       "      <th>174</th>\n",
       "      <td>13.40</td>\n",
       "      <td>3.91</td>\n",
       "      <td>2.48</td>\n",
       "      <td>23.0</td>\n",
       "      <td>102.0</td>\n",
       "      <td>1.80</td>\n",
       "      <td>0.75</td>\n",
       "      <td>0.43</td>\n",
       "      <td>1.41</td>\n",
       "      <td>7.30</td>\n",
       "      <td>0.70</td>\n",
       "      <td>1.56</td>\n",
       "      <td>750.0</td>\n",
       "      <td>2</td>\n",
       "    </tr>\n",
       "    <tr>\n",
       "      <th>175</th>\n",
       "      <td>13.27</td>\n",
       "      <td>4.28</td>\n",
       "      <td>2.26</td>\n",
       "      <td>20.0</td>\n",
       "      <td>120.0</td>\n",
       "      <td>1.59</td>\n",
       "      <td>0.69</td>\n",
       "      <td>0.43</td>\n",
       "      <td>1.35</td>\n",
       "      <td>10.20</td>\n",
       "      <td>0.59</td>\n",
       "      <td>1.56</td>\n",
       "      <td>835.0</td>\n",
       "      <td>2</td>\n",
       "    </tr>\n",
       "    <tr>\n",
       "      <th>176</th>\n",
       "      <td>13.17</td>\n",
       "      <td>2.59</td>\n",
       "      <td>2.37</td>\n",
       "      <td>20.0</td>\n",
       "      <td>120.0</td>\n",
       "      <td>1.65</td>\n",
       "      <td>0.68</td>\n",
       "      <td>0.53</td>\n",
       "      <td>1.46</td>\n",
       "      <td>9.30</td>\n",
       "      <td>0.60</td>\n",
       "      <td>1.62</td>\n",
       "      <td>840.0</td>\n",
       "      <td>2</td>\n",
       "    </tr>\n",
       "    <tr>\n",
       "      <th>177</th>\n",
       "      <td>14.13</td>\n",
       "      <td>4.10</td>\n",
       "      <td>2.74</td>\n",
       "      <td>24.5</td>\n",
       "      <td>96.0</td>\n",
       "      <td>2.05</td>\n",
       "      <td>0.76</td>\n",
       "      <td>0.56</td>\n",
       "      <td>1.35</td>\n",
       "      <td>9.20</td>\n",
       "      <td>0.61</td>\n",
       "      <td>1.60</td>\n",
       "      <td>560.0</td>\n",
       "      <td>2</td>\n",
       "    </tr>\n",
       "  </tbody>\n",
       "</table>\n",
       "<p>178 rows × 14 columns</p>\n",
       "</div>"
      ],
      "text/plain": [
       "     alcohol  malic_acid   ash  alcalinity_of_ash  magnesium  total_phenols  \\\n",
       "0      14.23        1.71  2.43               15.6      127.0           2.80   \n",
       "1      13.20        1.78  2.14               11.2      100.0           2.65   \n",
       "2      13.16        2.36  2.67               18.6      101.0           2.80   \n",
       "3      14.37        1.95  2.50               16.8      113.0           3.85   \n",
       "4      13.24        2.59  2.87               21.0      118.0           2.80   \n",
       "..       ...         ...   ...                ...        ...            ...   \n",
       "173    13.71        5.65  2.45               20.5       95.0           1.68   \n",
       "174    13.40        3.91  2.48               23.0      102.0           1.80   \n",
       "175    13.27        4.28  2.26               20.0      120.0           1.59   \n",
       "176    13.17        2.59  2.37               20.0      120.0           1.65   \n",
       "177    14.13        4.10  2.74               24.5       96.0           2.05   \n",
       "\n",
       "     flavanoids  nonflavanoid_phenols  proanthocyanins  color_intensity   hue  \\\n",
       "0          3.06                  0.28             2.29             5.64  1.04   \n",
       "1          2.76                  0.26             1.28             4.38  1.05   \n",
       "2          3.24                  0.30             2.81             5.68  1.03   \n",
       "3          3.49                  0.24             2.18             7.80  0.86   \n",
       "4          2.69                  0.39             1.82             4.32  1.04   \n",
       "..          ...                   ...              ...              ...   ...   \n",
       "173        0.61                  0.52             1.06             7.70  0.64   \n",
       "174        0.75                  0.43             1.41             7.30  0.70   \n",
       "175        0.69                  0.43             1.35            10.20  0.59   \n",
       "176        0.68                  0.53             1.46             9.30  0.60   \n",
       "177        0.76                  0.56             1.35             9.20  0.61   \n",
       "\n",
       "     od280/od315_of_diluted_wines  proline  class  \n",
       "0                            3.92   1065.0      0  \n",
       "1                            3.40   1050.0      0  \n",
       "2                            3.17   1185.0      0  \n",
       "3                            3.45   1480.0      0  \n",
       "4                            2.93    735.0      0  \n",
       "..                            ...      ...    ...  \n",
       "173                          1.74    740.0      2  \n",
       "174                          1.56    750.0      2  \n",
       "175                          1.56    835.0      2  \n",
       "176                          1.62    840.0      2  \n",
       "177                          1.60    560.0      2  \n",
       "\n",
       "[178 rows x 14 columns]"
      ]
     },
     "execution_count": 3,
     "metadata": {},
     "output_type": "execute_result"
    }
   ],
   "source": [
    "from sklearn.datasets import load_wine\n",
    "\n",
    "# Load the Wine dataset\n",
    "wine_data = load_wine()\n",
    "\n",
    "# Convert to DataFrame\n",
    "wine_df = pd.DataFrame(wine_data.data, columns=wine_data.feature_names)\n",
    "\n",
    "# Bind the 'class' (wine target) to the DataFrame\n",
    "wine_df['class'] = wine_data.target\n",
    "\n",
    "# Display the DataFrame\n",
    "wine_df\n"
   ]
  },
  {
   "cell_type": "markdown",
   "id": "721b2b17",
   "metadata": {},
   "source": [
    "#### **Question 1:** \n",
    "#### Data inspection\n",
    "\n",
    "Before fitting any model, it is essential to understand our data. **Use Python code** to answer the following questions about the **Wine dataset**:\n",
    "\n",
    "_(i)_ How many observations (rows) does the dataset contain?"
   ]
  },
  {
   "cell_type": "code",
   "execution_count": 4,
   "id": "56916892",
   "metadata": {},
   "outputs": [
    {
     "name": "stdout",
     "output_type": "stream",
     "text": [
      "The wine dataset has 178 rows.\n"
     ]
    }
   ],
   "source": [
    "wine_df\n",
    "num_rows = wine_df.shape[0]\n",
    "print(f'The wine dataset has {num_rows} rows.')"
   ]
  },
  {
   "cell_type": "markdown",
   "id": "f7573b59",
   "metadata": {},
   "source": [
    "_(ii)_ How many variables (columns) does the dataset contain?"
   ]
  },
  {
   "cell_type": "code",
   "execution_count": 5,
   "id": "df0ef103",
   "metadata": {},
   "outputs": [
    {
     "name": "stdout",
     "output_type": "stream",
     "text": [
      "The wine dataset contains 14 columns.\n"
     ]
    }
   ],
   "source": [
    "num_columns = wine_df.shape[1]\n",
    "print(f'The wine dataset contains {num_columns} columns.')"
   ]
  },
  {
   "cell_type": "markdown",
   "id": "cb5180c7",
   "metadata": {},
   "source": [
    "_(iii)_ What is the 'variable type' of the response variable `class` (e.g., 'integer', 'category', etc.)? What are the 'levels' (unique values) of the variable?"
   ]
  },
  {
   "cell_type": "code",
   "execution_count": 6,
   "id": "47989426",
   "metadata": {},
   "outputs": [
    {
     "name": "stdout",
     "output_type": "stream",
     "text": [
      "The data type of the 'class' column is int32.\n"
     ]
    }
   ],
   "source": [
    "class_type = wine_df['class'].dtype\n",
    "print(f\"The data type of the 'class' column is {class_type}.\")"
   ]
  },
  {
   "cell_type": "code",
   "execution_count": 7,
   "id": "64bf150a",
   "metadata": {},
   "outputs": [
    {
     "name": "stdout",
     "output_type": "stream",
     "text": [
      "The unique values in the 'class' column are: [0 1 2].\n"
     ]
    }
   ],
   "source": [
    "unique_values = wine_df['class'].unique()\n",
    "print(f\"The unique values in the 'class' column are: {unique_values}.\")"
   ]
  },
  {
   "cell_type": "markdown",
   "id": "a25f5e1b",
   "metadata": {},
   "source": [
    "\n",
    "**_(iv)_ How many predictor variables do we have (Hint: all variables other than `class`)? **"
   ]
  },
  {
   "cell_type": "code",
   "execution_count": 8,
   "id": "bd7b0910",
   "metadata": {},
   "outputs": [
    {
     "name": "stdout",
     "output_type": "stream",
     "text": [
      "The number of predictor variables is 13.\n"
     ]
    }
   ],
   "source": [
    "num_predictors = wine_df.shape[1] - 1\n",
    "print(f'The number of predictor variables is {num_predictors}.')"
   ]
  },
  {
   "cell_type": "markdown",
   "id": "d631e8e3",
   "metadata": {},
   "source": [
    "You can use `print()` and `describe()` to help answer these questions."
   ]
  },
  {
   "cell_type": "markdown",
   "id": "fa3832d7",
   "metadata": {},
   "source": [
    "#### **Question 2:** \n",
    "#### Standardization and data-splitting\n",
    "\n",
    "Next, we must preform 'pre-processing' or 'data munging', to prepare our data for classification/prediction. For KNN, there are three essential steps. A first essential step is to 'standardize' the predictor variables. We can achieve this using the scaler method, provided as follows:"
   ]
  },
  {
   "cell_type": "code",
   "execution_count": 9,
   "id": "cc899b59",
   "metadata": {},
   "outputs": [
    {
     "name": "stdout",
     "output_type": "stream",
     "text": [
      "    alcohol  malic_acid       ash  alcalinity_of_ash  magnesium  \\\n",
      "0  1.518613   -0.562250  0.232053          -1.169593   1.913905   \n",
      "1  0.246290   -0.499413 -0.827996          -2.490847   0.018145   \n",
      "2  0.196879    0.021231  1.109334          -0.268738   0.088358   \n",
      "3  1.691550   -0.346811  0.487926          -0.809251   0.930918   \n",
      "4  0.295700    0.227694  1.840403           0.451946   1.281985   \n",
      "\n",
      "   total_phenols  flavanoids  nonflavanoid_phenols  proanthocyanins  \\\n",
      "0       0.808997    1.034819             -0.659563         1.224884   \n",
      "1       0.568648    0.733629             -0.820719        -0.544721   \n",
      "2       0.808997    1.215533             -0.498407         2.135968   \n",
      "3       2.491446    1.466525             -0.981875         1.032155   \n",
      "4       0.808997    0.663351              0.226796         0.401404   \n",
      "\n",
      "   color_intensity       hue  od280/od315_of_diluted_wines   proline  \n",
      "0         0.251717  0.362177                      1.847920  1.013009  \n",
      "1        -0.293321  0.406051                      1.113449  0.965242  \n",
      "2         0.269020  0.318304                      0.788587  1.395148  \n",
      "3         1.186068 -0.427544                      1.184071  2.334574  \n",
      "4        -0.319276  0.362177                      0.449601 -0.037874  \n"
     ]
    }
   ],
   "source": [
    "# Select predictors (excluding the last column)\n",
    "predictors = wine_df.iloc[:, :-1]\n",
    "\n",
    "# Standardize the predictors\n",
    "scaler = StandardScaler()\n",
    "predictors_standardized = pd.DataFrame(scaler.fit_transform(predictors), columns=predictors.columns)\n",
    "\n",
    "# Display the head of the standardized predictors\n",
    "print(predictors_standardized.head())"
   ]
  },
  {
   "cell_type": "markdown",
   "id": "9981ca48",
   "metadata": {},
   "source": [
    "(i) Why is it important to standardize the predictor variables?"
   ]
  },
  {
   "cell_type": "markdown",
   "id": "403ef0bb",
   "metadata": {},
   "source": [
    "Standardizing the predictor variables is important because it ensures that each feature contributes equally to the distance calculations in algorithms like KNN. Without standardization, features with larger scales can dominate the distance metric, leading to biased results. Standardization transforms the data to have a mean of zero and a standard deviation of one, making the features comparable."
   ]
  },
  {
   "cell_type": "markdown",
   "id": "8e2e1bea",
   "metadata": {},
   "source": [
    "(ii) Why did we elect not to standard our response variable `Class`?"
   ]
  },
  {
   "cell_type": "markdown",
   "id": "fdee5a15",
   "metadata": {},
   "source": [
    "Standardizing the response variable `class` is unnecessary because it is a categorical variable representing different classes of wine. Standardization is typically applied to continuous predictor variables to ensure they are on a comparable scale. Since `class` is used as a label for classification and not for distance calculations, standardizing it would not be meaningful or beneficial."
   ]
  },
  {
   "cell_type": "markdown",
   "id": "8077ec21",
   "metadata": {},
   "source": [
    "(iii) A second essential step is to set a random seed. Do so below (Hint: use the random.seed function). Why is setting a seed important? Is the particular seed value important? Why or why not?"
   ]
  },
  {
   "cell_type": "markdown",
   "id": "f0676c21",
   "metadata": {},
   "source": [
    "Setting a random seed is important to ensure the reproducibility of your results. When you set a seed, you guarantee that the random processes in your code (such as data splitting or shuffling) will produce the same results each time you run the code. This is crucial for debugging and verifying your results.\n",
    "\n",
    "The particular seed value itself is not important; what matters is that a seed is set. Different seed values will produce different sequences of random numbers, but any fixed seed will ensure consistency across runs."
   ]
  },
  {
   "cell_type": "code",
   "execution_count": 10,
   "id": "30a50c54",
   "metadata": {},
   "outputs": [],
   "source": [
    "random.seed(42)"
   ]
  },
  {
   "cell_type": "markdown",
   "id": "36ab9229",
   "metadata": {},
   "source": [
    "(iv) A third essential step is to split our standardized data into separate training and testing sets. We will split into 75% training and 25% testing. The provided code randomly partitions our data, and creates linked training sets for the predictors and response variables. \n",
    "\n",
    "Extend the code to create a non-overlapping test set for the predictors and response variables."
   ]
  },
  {
   "cell_type": "code",
   "execution_count": 11,
   "id": "72c101f2",
   "metadata": {},
   "outputs": [
    {
     "name": "stdout",
     "output_type": "stream",
     "text": [
      "Training set predictors:\n",
      "       alcohol  malic_acid       ash  alcalinity_of_ash  magnesium  \\\n",
      "0    1.518613   -0.562250  0.232053          -1.169593   1.913905   \n",
      "1    0.246290   -0.499413 -0.827996          -2.490847   0.018145   \n",
      "2    0.196879    0.021231  1.109334          -0.268738   0.088358   \n",
      "3    1.691550   -0.346811  0.487926          -0.809251   0.930918   \n",
      "4    0.295700    0.227694  1.840403           0.451946   1.281985   \n",
      "..        ...         ...       ...                ...        ...   \n",
      "169  0.493343    2.031997  1.803849           1.653086   0.860705   \n",
      "171 -0.284874    0.048161 -0.316249           0.001518  -0.964842   \n",
      "175  0.332758    1.744744 -0.389355           0.151661   1.422412   \n",
      "176  0.209232    0.227694  0.012732           0.151661   1.422412   \n",
      "177  1.395086    1.583165  1.365208           1.502943  -0.262708   \n",
      "\n",
      "     total_phenols  flavanoids  nonflavanoid_phenols  proanthocyanins  \\\n",
      "0         0.808997    1.034819             -0.659563         1.224884   \n",
      "1         0.568648    0.733629             -0.820719        -0.544721   \n",
      "2         0.808997    1.215533             -0.498407         2.135968   \n",
      "3         2.491446    1.466525             -0.981875         1.032155   \n",
      "4         0.808997    0.663351              0.226796         0.401404   \n",
      "..             ...         ...                   ...              ...   \n",
      "169      -0.504914   -1.073511             -0.740141        -0.842575   \n",
      "171      -1.450290   -1.525296              0.951998        -1.666055   \n",
      "175      -1.129824   -1.344582              0.549108        -0.422075   \n",
      "176      -1.033684   -1.354622              1.354888        -0.229346   \n",
      "177      -0.392751   -1.274305              1.596623        -0.422075   \n",
      "\n",
      "     color_intensity       hue  od280/od315_of_diluted_wines   proline  \n",
      "0           0.251717  0.362177                      1.847920  1.013009  \n",
      "1          -0.293321  0.406051                      1.113449  0.965242  \n",
      "2           0.269020  0.318304                      0.788587  1.395148  \n",
      "3           1.186068 -0.427544                      1.184071  2.334574  \n",
      "4          -0.319276  0.362177                      0.449601 -0.037874  \n",
      "..               ...       ...                           ...       ...  \n",
      "169         1.488867 -1.261138                     -0.976966 -0.372246  \n",
      "171         2.094465 -1.699872                     -1.386574 -0.881765  \n",
      "175         2.224236 -1.612125                     -1.485445  0.280575  \n",
      "176         1.834923 -1.568252                     -1.400699  0.296498  \n",
      "177         1.791666 -1.524378                     -1.428948 -0.595160  \n",
      "\n",
      "[140 rows x 13 columns]\n",
      "Testing set predictors:\n",
      "       alcohol  malic_acid       ash  alcalinity_of_ash  magnesium  \\\n",
      "6    1.716255   -0.418624  0.305159          -1.469878  -0.262708   \n",
      "21  -0.087232    1.313866  1.036228          -0.268738   0.158572   \n",
      "37   0.061000   -0.616110  0.670693          -0.448909  -0.122282   \n",
      "38   0.085705   -0.750759 -0.974210          -1.199622  -0.122282   \n",
      "44   0.061000   -0.508390 -0.974210          -0.749194   0.509638   \n",
      "47   1.110975   -0.589180 -0.901103          -1.049479   0.088358   \n",
      "51   1.024507   -0.616110  0.853460          -0.689137  -0.403135   \n",
      "58   0.888627   -0.813595  0.487926          -0.839280   0.579852   \n",
      "64  -1.026033   -0.795642  0.597587          -0.148624   0.298998   \n",
      "66   0.135116   -1.190614 -2.436346          -1.349764  -1.526548   \n",
      "71   1.061565   -0.741782  1.109334           1.653086  -0.964842   \n",
      "84  -1.433671   -1.298334  0.780354          -0.448909  -0.403135   \n",
      "85  -0.408401   -1.217544 -0.462462          -0.448909  -0.052068   \n",
      "91  -1.236028   -0.741782  0.195499           0.752231  -0.964842   \n",
      "93  -0.877801    0.443133 -0.535569          -0.448909  -0.824415   \n",
      "106 -0.927212   -0.544297 -0.901103          -0.148624  -1.386122   \n",
      "108 -0.964270   -0.939268 -1.559065          -0.148624  -0.543562   \n",
      "113 -1.964835   -1.432983  0.487926           0.451946  -0.824415   \n",
      "119 -1.236028    0.981731 -1.339744          -0.148624  -0.894628   \n",
      "120 -1.915424    0.057138  0.195499           0.151661  -0.262708   \n",
      "124 -1.396613    1.771674  0.085839           0.451946  -1.245695   \n",
      "125 -1.149560   -0.158301 -0.718336           0.451946  -1.035055   \n",
      "128 -0.778980   -0.634063 -0.243142           1.502943  -0.824415   \n",
      "133 -0.371343    1.089450 -0.023821           0.602088   0.439425   \n",
      "134 -0.606043   -0.984151 -0.425909          -0.599052  -1.035055   \n",
      "142  0.641574    0.748338  1.292101           1.202658  -0.192495   \n",
      "145  0.196879    1.107404 -0.791443           0.451946   0.158572   \n",
      "149  0.098058    1.403632 -0.023821           0.602088   0.930918   \n",
      "151 -0.260169    0.299507  0.414820           0.752231   0.860705   \n",
      "157 -0.680159    0.622666  0.999674           2.253656  -0.192495   \n",
      "161  0.851569    0.829128  0.634140           0.151661   0.509638   \n",
      "165  0.900980    1.816558 -0.389355           0.902373  -0.824415   \n",
      "167 -0.223111    0.927871 -0.243142           0.001518  -0.824415   \n",
      "168  0.715690    0.218717  1.182441           1.502943   0.369212   \n",
      "170 -0.988975    0.622666 -0.170035          -0.148624  -0.262708   \n",
      "172  1.432144    0.155881  0.414820           0.151661  -0.613775   \n",
      "173  0.876275    2.974543  0.305159           0.301803  -0.332922   \n",
      "174  0.493343    1.412609  0.414820           1.052516   0.158572   \n",
      "\n",
      "     total_phenols  flavanoids  nonflavanoid_phenols  proanthocyanins  \\\n",
      "6         0.328298    0.492677             -0.498407         0.681738   \n",
      "21        0.184088    0.382241             -0.901297         0.681738   \n",
      "37        0.248181    0.402320             -0.578985        -0.264388   \n",
      "38        0.168065    0.613153             -0.659563        -0.387033   \n",
      "44        1.129464    0.974581             -0.659563         0.769342   \n",
      "47        1.289697    1.366128             -1.223610         0.962071   \n",
      "51        0.248181    0.964541             -1.143031         1.224884   \n",
      "58        1.770396    1.647239             -1.384766         0.786863   \n",
      "64       -0.649124   -0.280377              0.710264        -0.982742   \n",
      "66        1.097417    1.155295             -0.820719         1.207363   \n",
      "71        1.049347    0.834026             -1.223610         0.489009   \n",
      "84       -0.152402    0.181447             -1.143031         1.330009   \n",
      "85       -0.152402   -0.089624             -0.498407        -0.229346   \n",
      "91       -1.354150   -0.782361              1.113154         0.068508   \n",
      "93        0.248181    0.221606             -0.901297         0.699259   \n",
      "106      -1.033684    0.000733              0.065639         0.068508   \n",
      "108       0.103972    0.010773              0.226796         0.856946   \n",
      "113       0.296251   -0.019346              0.468530        -0.264388   \n",
      "119      -0.472868   -0.390814              0.065639         0.489009   \n",
      "120       0.969231    0.763748             -0.337251         0.418925   \n",
      "124       0.905137    1.004700             -1.223610         2.311176   \n",
      "125       0.488531    0.623193              0.065639        -0.422075   \n",
      "128      -0.120355    0.422399              0.307374         0.541571   \n",
      "133      -0.953567   -0.832559             -1.545922        -1.315638   \n",
      "134      -0.472868   -1.455019              1.918935        -0.597284   \n",
      "142      -1.193917   -1.515257              1.113154        -1.823742   \n",
      "145      -1.274034   -1.485138              0.549108        -0.509679   \n",
      "149      -1.418243   -0.641805             -0.176095        -0.790013   \n",
      "151      -1.306080   -0.671924             -0.981875        -0.579763   \n",
      "157      -0.633101   -1.455019              2.160669        -0.790013   \n",
      "161      -0.745264   -1.475098              1.113154        -1.385721   \n",
      "165      -1.626547   -1.565455              1.274310        -0.772492   \n",
      "167      -1.306080   -1.374701              0.307374        -1.087867   \n",
      "168      -1.193917   -1.193987              0.226796        -0.089179   \n",
      "170      -1.674617   -1.545376              0.307374        -1.508367   \n",
      "172      -0.985614   -1.334543              0.629686        -0.614804   \n",
      "173      -0.985614   -1.424900              1.274310        -0.930179   \n",
      "174      -0.793334   -1.284344              0.549108        -0.316950   \n",
      "\n",
      "     color_intensity       hue  od280/od315_of_diluted_wines   proline  \n",
      "6           0.083015  0.274431                      1.367689  1.729520  \n",
      "21         -0.241413  0.318304                      1.282942  0.073583  \n",
      "37         -0.349555  0.713164                     -0.143625  1.140389  \n",
      "38         -0.587469  0.976405                      0.110615  0.869707  \n",
      "44         -0.007825 -0.339797                      1.042827  0.439800  \n",
      "47          0.450699 -0.208177                      1.014578  0.758249  \n",
      "51          0.234414  1.239645                      1.071076  1.649908  \n",
      "58          0.753498 -0.295924                      0.364855  1.713598  \n",
      "64         -0.911896  2.160986                     -0.539109 -1.247982  \n",
      "66          0.104643  0.713164                      0.802712 -0.779861  \n",
      "71         -0.725891  1.766126                      0.774463 -1.072834  \n",
      "84         -0.868639 -0.734657                      0.661468 -0.722540  \n",
      "85         -1.054644  1.195772                      0.774463 -0.945455  \n",
      "91         -0.630726  0.406051                      0.054117 -0.945455  \n",
      "93         -1.257952  0.844785                      0.972205 -1.454974  \n",
      "106        -0.717240  0.186684                      0.788587 -0.754385  \n",
      "108        -1.020039 -0.427544                      0.576721 -1.384915  \n",
      "113        -0.855662  0.625418                     -0.426113 -0.996407  \n",
      "119        -1.634288 -0.120430                      0.619094 -0.582422  \n",
      "120        -0.782125 -0.690784                      1.099325 -0.388168  \n",
      "124        -0.976782 -0.910151                      1.452436 -1.168369  \n",
      "125        -0.994085 -0.427544                      0.943956 -1.174738  \n",
      "128        -1.270929 -0.295924                      0.237735 -1.289380  \n",
      "133        -0.025128 -0.778531                     -1.866805 -0.467781  \n",
      "134         0.169529 -0.910151                     -1.556068 -0.308556  \n",
      "142        -0.306298 -0.295924                     -0.779224 -0.722540  \n",
      "145        -0.457698 -1.568252                     -1.315952  0.264653  \n",
      "149         1.878180 -1.699872                     -1.810307 -0.627005  \n",
      "151         2.483778 -2.094732                     -1.612565 -0.849920  \n",
      "157         1.056297 -1.261138                     -1.245330  0.423878  \n",
      "161         0.355534  0.011190                     -1.118210 -0.213021  \n",
      "165         0.675635 -0.778531                     -1.217081 -0.722540  \n",
      "167         2.250190 -1.041771                     -1.217081 -0.197099  \n",
      "168         1.558078 -0.954024                     -1.146459  0.009893  \n",
      "170         0.191157 -1.305011                     -1.104086 -0.754385  \n",
      "172         2.007951 -1.480505                     -1.273579 -0.276711  \n",
      "173         1.142811 -1.392758                     -1.231206 -0.021952  \n",
      "174         0.969783 -1.129518                     -1.485445  0.009893  \n",
      "Training set response:\n",
      " 0      0\n",
      "1      0\n",
      "2      0\n",
      "3      0\n",
      "4      0\n",
      "      ..\n",
      "169    2\n",
      "171    2\n",
      "175    2\n",
      "176    2\n",
      "177    2\n",
      "Name: class, Length: 140, dtype: int32\n",
      "Testing set response:\n",
      " 6      0\n",
      "21     0\n",
      "37     0\n",
      "38     0\n",
      "44     0\n",
      "47     0\n",
      "51     0\n",
      "58     0\n",
      "64     1\n",
      "66     1\n",
      "71     1\n",
      "84     1\n",
      "85     1\n",
      "91     1\n",
      "93     1\n",
      "106    1\n",
      "108    1\n",
      "113    1\n",
      "119    1\n",
      "120    1\n",
      "124    1\n",
      "125    1\n",
      "128    1\n",
      "133    2\n",
      "134    2\n",
      "142    2\n",
      "145    2\n",
      "149    2\n",
      "151    2\n",
      "157    2\n",
      "161    2\n",
      "165    2\n",
      "167    2\n",
      "168    2\n",
      "170    2\n",
      "172    2\n",
      "173    2\n",
      "174    2\n",
      "Name: class, dtype: int32\n"
     ]
    }
   ],
   "source": [
    "# Do not touch\n",
    "np.random.seed(123)\n",
    "# Create a random vector of True and False values to split the data\n",
    "split = np.random.choice([True, False], size=len(predictors_standardized), replace=True, p=[0.75, 0.25])\n",
    "# Do not touch\n",
    "np.random.seed(123)\n",
    "# Create a random vector of True and False values to split the data\n",
    "split = np.random.choice([True, False], size=len(predictors_standardized), replace=True, p=[0.75, 0.25])\n",
    "response_variable = wine_df['class']\n",
    "# Split the predictors and response variables into training and testing sets\n",
    "X_train = predictors_standardized[split]\n",
    "X_test = predictors_standardized[~split]\n",
    "y_train = response_variable[split]\n",
    "y_test = response_variable[~split]\n",
    "\n",
    "print(\"Training set predictors:\\n\", X_train)\n",
    "print(\"Testing set predictors:\\n\", X_test)\n",
    "print(\"Training set response:\\n\", y_train)\n",
    "print(\"Testing set response:\\n\", y_test)"
   ]
  },
  {
   "cell_type": "code",
   "execution_count": 12,
   "id": "cdd8f4a0",
   "metadata": {},
   "outputs": [
    {
     "name": "stdout",
     "output_type": "stream",
     "text": [
      "Number of observations in the response variable set: 178\n"
     ]
    }
   ],
   "source": [
    "print(\"Number of observations in the response variable set:\", len(response_variable))"
   ]
  },
  {
   "cell_type": "markdown",
   "id": "4604ee03",
   "metadata": {},
   "source": [
    "#### **Question 3:**\n",
    "#### Model initialization and cross-validation\n",
    "We are finally set to fit the KNN model. \n",
    "\n",
    "\n",
    "Perform a grid search to tune the `n_neighbors` hyperparameter using 10-fold cross-validation. Follow these steps:\n",
    "\n",
    "1. Initialize the KNN classifier using `KNeighborsClassifier()`.\n",
    "2. Define a parameter grid for `n_neighbors` ranging from 1 to 50.\n",
    "3. Implement a grid search using `GridSearchCV` with 10-fold cross-validation to find the optimal number of neighbors.\n",
    "4. After fitting the model on the training data, identify and return the best value for `n_neighbors` based on the grid search results."
   ]
  },
  {
   "cell_type": "code",
   "execution_count": 13,
   "id": "08818c64",
   "metadata": {},
   "outputs": [
    {
     "name": "stdout",
     "output_type": "stream",
     "text": [
      "Best value for n_neighbors: 8\n"
     ]
    }
   ],
   "source": [
    "from sklearn.neighbors import KNeighborsClassifier\n",
    "from sklearn.model_selection import GridSearchCV\n",
    "\n",
    "# Step 1: Initialize the KNN classifier\n",
    "knn = KNeighborsClassifier()\n",
    "\n",
    "# Step 2: Define a parameter grid for n_neighbors ranging from 1 to 50\n",
    "param_grid = {'n_neighbors': range(1, 51)}\n",
    "\n",
    "# Step 3: Implement a grid search using GridSearchCV with 10-fold cross-validation\n",
    "grid_search = GridSearchCV(estimator=knn, param_grid=param_grid, cv=10, scoring='accuracy')\n",
    "\n",
    "# Fit the model on the training data\n",
    "grid_search.fit(X_train, y_train)\n",
    "\n",
    "# Step 4: Identify and return the best value for n_neighbors based on the grid search results\n",
    "best_n_neighbors = grid_search.best_params_['n_neighbors']\n",
    "print(\"Best value for n_neighbors:\", best_n_neighbors)"
   ]
  },
  {
   "cell_type": "markdown",
   "id": "3f76bf62",
   "metadata": {},
   "source": [
    "#### **Question 4:**\n",
    "#### Model evaluation\n",
    "\n",
    "Using the best value for `n_neighbors`, fit a KNN model on the training data and evaluate its performance on the test set using `accuracy_score`."
   ]
  },
  {
   "cell_type": "code",
   "execution_count": 14,
   "id": "ffefa9f2",
   "metadata": {},
   "outputs": [
    {
     "name": "stdout",
     "output_type": "stream",
     "text": [
      "Accuracy of the KNN model on the test set: 0.9473684210526315\n"
     ]
    }
   ],
   "source": [
    "from sklearn.metrics import accuracy_score\n",
    "\n",
    "# Assuming best_n_neighbors is obtained from the previous grid search\n",
    "best_n_neighbors = grid_search.best_params_['n_neighbors']\n",
    "\n",
    "# Step 1: Initialize the KNN classifier with the best value for n_neighbors\n",
    "knn_best = KNeighborsClassifier(n_neighbors=best_n_neighbors)\n",
    "\n",
    "# Step 2: Fit the KNN model on the training data\n",
    "knn_best.fit(X_train, y_train)\n",
    "\n",
    "# Step 3: Predict the labels for the test set\n",
    "y_pred = knn_best.predict(X_test)\n",
    "\n",
    "# Step 4: Evaluate the model's performance using accuracy_score\n",
    "accuracy = accuracy_score(y_test, y_pred)\n",
    "print(\"Accuracy of the KNN model on the test set:\", accuracy)"
   ]
  },
  {
   "cell_type": "markdown",
   "id": "6f8a69db",
   "metadata": {},
   "source": [
    "# Criteria\n",
    "\n",
    "\n",
    "| **Criteria**                                           | **Complete**                                      | **Incomplete**                                    |\n",
    "|--------------------------------------------------------|---------------------------------------------------|--------------------------------------------------|\n",
    "| **Data Inspection**                                    | Data is inspected for number of variables, observations and data types. | Data inspection is missing or incomplete.         |\n",
    "| **Data Scaling**                                       | Data scaling or normalization is applied where necessary (e.g., using `StandardScaler`). | Data scaling or normalization is missing or incorrectly applied. |\n",
    "| **Model Initialization**                               | The KNN model is correctly initialized and a random seed is set for reproducibility.            | The KNN model is not initialized, is incorrect, or lacks a random seed for reproducibility. |\n",
    "| **Parameter Grid for `n_neighbors`**                   | The parameter grid for `n_neighbors` is correctly defined. | The parameter grid is missing or incorrectly defined. |\n",
    "| **Cross-Validation Setup**                             | Cross-validation is set up correctly with 10 folds. | Cross-validation is missing or incorrectly set up. |\n",
    "| **Best Hyperparameter (`n_neighbors`) Selection**       | The best value for `n_neighbors` is identified using the grid search results. | The best `n_neighbors` is not selected or incorrect. |\n",
    "| **Model Evaluation on Test Data**                      | The model is evaluated on the test data using accuracy. | The model evaluation is missing or uses the wrong metric. |\n"
   ]
  },
  {
   "cell_type": "markdown",
   "id": "0b4390cc",
   "metadata": {},
   "source": [
    "## Submission Information\n",
    "\n",
    "🚨 **Please review our [Assignment Submission Guide](https://github.com/UofT-DSI/onboarding/blob/main/onboarding_documents/submissions.md)** 🚨 for detailed instructions on how to format, branch, and submit your work. Following these guidelines is crucial for your submissions to be evaluated correctly.\n",
    "\n",
    "### Note:\n",
    "\n",
    "If you like, you may collaborate with others in the cohort. If you choose to do so, please indicate with whom you have worked with in your pull request by tagging their GitHub username. Separate submissions are required.\n",
    "\n",
    "### Submission Parameters:\n",
    "* Submission Due Date: `HH:MM AM/PM - DD/MM/YYYY`\n",
    "* The branch name for your repo should be: `assignment-1`\n",
    "* What to submit for this assignment:\n",
    "    * This Jupyter Notebook (assignment_1.ipynb) should be populated and should be the only change in your pull request.\n",
    "* What the pull request link should look like for this assignment: `https://github.com/<your_github_username>/applying_statistical_concepts/pull/<pr_id>`\n",
    "    * Open a private window in your browser. Copy and paste the link to your pull request into the address bar. Make sure you can see your pull request properly. This helps the technical facilitator and learning support staff review your submission easily.\n",
    "\n",
    "Checklist:\n",
    "- [ ] Created a branch with the correct naming convention.\n",
    "- [ ] Ensured that the repository is public.\n",
    "- [ ] Reviewed the PR description guidelines and adhered to them.\n",
    "- [ ] Verify that the link is accessible in a private browser window.\n",
    "\n",
    "If you encounter any difficulties or have questions, please don't hesitate to reach out to our team via our Slack at `#cohort-4-help`. Our Technical Facilitators and Learning Support staff are here to help you navigate any challenges.\n"
   ]
  }
 ],
 "metadata": {
  "kernelspec": {
   "display_name": "dsi_participant",
   "language": "python",
   "name": "python3"
  },
  "language_info": {
   "codemirror_mode": {
    "name": "ipython",
    "version": 3
   },
   "file_extension": ".py",
   "mimetype": "text/x-python",
   "name": "python",
   "nbconvert_exporter": "python",
   "pygments_lexer": "ipython3",
   "version": "3.9.19"
  }
 },
 "nbformat": 4,
 "nbformat_minor": 5
}
